{
 "cells": [
  {
   "cell_type": "markdown",
   "id": "3a36689d-d26c-4829-a540-196c446739c1",
   "metadata": {},
   "source": [
    "<h3> Implement a Machine Learning Classification model using a Logistic regression algorithm</h3>\n",
    "<h5>Name : Shubham Sonake</h5>\n",
    "<h5>Reg No : 2021BIT047</h5>"
   ]
  },
  {
   "cell_type": "markdown",
   "id": "f7ece608-4e2e-4f2e-b36e-5276e432f2c1",
   "metadata": {},
   "source": [
    "<h5>Import the required libraries¶</h5>"
   ]
  },
  {
   "cell_type": "code",
   "execution_count": 1,
   "id": "752a690b-ba9a-4b5e-9f62-a434b3b17f1d",
   "metadata": {},
   "outputs": [],
   "source": [
    "import pandas as pd\n",
    "from sklearn.model_selection import train_test_split\n",
    "from sklearn.preprocessing import StandardScaler\n",
    "from sklearn.linear_model import LogisticRegression\n",
    "from sklearn.metrics import confusion_matrix, precision_score, accuracy_score, f1_score"
   ]
  },
  {
   "cell_type": "markdown",
   "id": "09a90935-8aa5-4039-863e-e3e0266e17cd",
   "metadata": {},
   "source": [
    "<h5>Load the dataset from CSV file</h5>"
   ]
  },
  {
   "cell_type": "code",
   "execution_count": 3,
   "id": "ff999c8e-ee84-40d1-90f1-e6ea74eaee85",
   "metadata": {},
   "outputs": [],
   "source": [
    "data = pd.read_csv('Diabetes.csv')"
   ]
  },
  {
   "cell_type": "markdown",
   "id": "06205693-ffd0-4e98-b4fc-ddfdd63325e4",
   "metadata": {},
   "source": [
    "<h4>Display First Few Values Of Features And Targets</h4>\n"
   ]
  },
  {
   "cell_type": "code",
   "execution_count": 4,
   "id": "07b3d1bf-b41e-461b-be9c-9931f63fbbf8",
   "metadata": {},
   "outputs": [
    {
     "name": "stdout",
     "output_type": "stream",
     "text": [
      "   Pregnancies  Glucose  BloodPressure  SkinThickness  Insulin   BMI  \\\n",
      "0            6      148             72             35        0  33.6   \n",
      "1            1       85             66             29        0  26.6   \n",
      "2            8      183             64              0        0  23.3   \n",
      "3            1       89             66             23       94  28.1   \n",
      "4            0      137             40             35      168  43.1   \n",
      "\n",
      "   DiabetesPedigreeFunction  Age  Outcome  \n",
      "0                     0.627   50        1  \n",
      "1                     0.351   31        0  \n",
      "2                     0.672   32        1  \n",
      "3                     0.167   21        0  \n",
      "4                     2.288   33        1  \n",
      "     Pregnancies  Glucose  BloodPressure  SkinThickness  Insulin   BMI  \\\n",
      "763           10      101             76             48      180  32.9   \n",
      "764            2      122             70             27        0  36.8   \n",
      "765            5      121             72             23      112  26.2   \n",
      "766            1      126             60              0        0  30.1   \n",
      "767            1       93             70             31        0  30.4   \n",
      "\n",
      "     DiabetesPedigreeFunction  Age  Outcome  \n",
      "763                     0.171   63        0  \n",
      "764                     0.340   27        0  \n",
      "765                     0.245   30        0  \n",
      "766                     0.349   47        1  \n",
      "767                     0.315   23        0  \n"
     ]
    }
   ],
   "source": [
    "print(data.head())\n",
    "print(data.tail())"
   ]
  },
  {
   "cell_type": "markdown",
   "id": "af7a615f-3a26-4903-8c5f-584ad15028b6",
   "metadata": {},
   "source": [
    "<h4>Data Preprocessing\r\n",
    "</h4>"
   ]
  },
  {
   "cell_type": "markdown",
   "id": "1350c022-e7d6-43ef-967a-f4cf681fb510",
   "metadata": {},
   "source": [
    "<h5>Split the data X and Y</h5>"
   ]
  },
  {
   "cell_type": "code",
   "execution_count": 5,
   "id": "3f0e3300-5467-44d6-b285-380110b8609c",
   "metadata": {},
   "outputs": [],
   "source": [
    "X = data.drop('Outcome', axis=1)\n",
    "y = data['Outcome']"
   ]
  },
  {
   "cell_type": "markdown",
   "id": "af8d8299-76bc-4b6f-817b-971c3afe6825",
   "metadata": {},
   "source": [
    "<h5>Split data into training and testing sets</h5>"
   ]
  },
  {
   "cell_type": "code",
   "execution_count": 6,
   "id": "f9eb27b8-316e-4e77-afb5-4d3286e7febd",
   "metadata": {},
   "outputs": [],
   "source": [
    "X_train, X_test, y_train, y_test = train_test_split(X, y, test_size=0.2, random_state=42)\n"
   ]
  },
  {
   "cell_type": "code",
   "execution_count": 8,
   "id": "4d8bfdf5-dc6f-4686-a766-960bfc36e627",
   "metadata": {},
   "outputs": [],
   "source": [
    "scaler = StandardScaler()\n",
    "X_train_scaled = scaler.fit_transform(X_train)\n",
    "X_test_scaled = scaler.transform(X_test)"
   ]
  },
  {
   "cell_type": "markdown",
   "id": "27d76a4b-2d6e-490e-aeec-bbe904396607",
   "metadata": {},
   "source": [
    "<h5>Train the Logistic Regression model</h5>"
   ]
  },
  {
   "cell_type": "code",
   "execution_count": 9,
   "id": "4ba24d45-e3da-48b1-9088-779bf76ab131",
   "metadata": {},
   "outputs": [
    {
     "data": {
      "text/html": [
       "<style>#sk-container-id-2 {color: black;}#sk-container-id-2 pre{padding: 0;}#sk-container-id-2 div.sk-toggleable {background-color: white;}#sk-container-id-2 label.sk-toggleable__label {cursor: pointer;display: block;width: 100%;margin-bottom: 0;padding: 0.3em;box-sizing: border-box;text-align: center;}#sk-container-id-2 label.sk-toggleable__label-arrow:before {content: \"▸\";float: left;margin-right: 0.25em;color: #696969;}#sk-container-id-2 label.sk-toggleable__label-arrow:hover:before {color: black;}#sk-container-id-2 div.sk-estimator:hover label.sk-toggleable__label-arrow:before {color: black;}#sk-container-id-2 div.sk-toggleable__content {max-height: 0;max-width: 0;overflow: hidden;text-align: left;background-color: #f0f8ff;}#sk-container-id-2 div.sk-toggleable__content pre {margin: 0.2em;color: black;border-radius: 0.25em;background-color: #f0f8ff;}#sk-container-id-2 input.sk-toggleable__control:checked~div.sk-toggleable__content {max-height: 200px;max-width: 100%;overflow: auto;}#sk-container-id-2 input.sk-toggleable__control:checked~label.sk-toggleable__label-arrow:before {content: \"▾\";}#sk-container-id-2 div.sk-estimator input.sk-toggleable__control:checked~label.sk-toggleable__label {background-color: #d4ebff;}#sk-container-id-2 div.sk-label input.sk-toggleable__control:checked~label.sk-toggleable__label {background-color: #d4ebff;}#sk-container-id-2 input.sk-hidden--visually {border: 0;clip: rect(1px 1px 1px 1px);clip: rect(1px, 1px, 1px, 1px);height: 1px;margin: -1px;overflow: hidden;padding: 0;position: absolute;width: 1px;}#sk-container-id-2 div.sk-estimator {font-family: monospace;background-color: #f0f8ff;border: 1px dotted black;border-radius: 0.25em;box-sizing: border-box;margin-bottom: 0.5em;}#sk-container-id-2 div.sk-estimator:hover {background-color: #d4ebff;}#sk-container-id-2 div.sk-parallel-item::after {content: \"\";width: 100%;border-bottom: 1px solid gray;flex-grow: 1;}#sk-container-id-2 div.sk-label:hover label.sk-toggleable__label {background-color: #d4ebff;}#sk-container-id-2 div.sk-serial::before {content: \"\";position: absolute;border-left: 1px solid gray;box-sizing: border-box;top: 0;bottom: 0;left: 50%;z-index: 0;}#sk-container-id-2 div.sk-serial {display: flex;flex-direction: column;align-items: center;background-color: white;padding-right: 0.2em;padding-left: 0.2em;position: relative;}#sk-container-id-2 div.sk-item {position: relative;z-index: 1;}#sk-container-id-2 div.sk-parallel {display: flex;align-items: stretch;justify-content: center;background-color: white;position: relative;}#sk-container-id-2 div.sk-item::before, #sk-container-id-2 div.sk-parallel-item::before {content: \"\";position: absolute;border-left: 1px solid gray;box-sizing: border-box;top: 0;bottom: 0;left: 50%;z-index: -1;}#sk-container-id-2 div.sk-parallel-item {display: flex;flex-direction: column;z-index: 1;position: relative;background-color: white;}#sk-container-id-2 div.sk-parallel-item:first-child::after {align-self: flex-end;width: 50%;}#sk-container-id-2 div.sk-parallel-item:last-child::after {align-self: flex-start;width: 50%;}#sk-container-id-2 div.sk-parallel-item:only-child::after {width: 0;}#sk-container-id-2 div.sk-dashed-wrapped {border: 1px dashed gray;margin: 0 0.4em 0.5em 0.4em;box-sizing: border-box;padding-bottom: 0.4em;background-color: white;}#sk-container-id-2 div.sk-label label {font-family: monospace;font-weight: bold;display: inline-block;line-height: 1.2em;}#sk-container-id-2 div.sk-label-container {text-align: center;}#sk-container-id-2 div.sk-container {/* jupyter's `normalize.less` sets `[hidden] { display: none; }` but bootstrap.min.css set `[hidden] { display: none !important; }` so we also need the `!important` here to be able to override the default hidden behavior on the sphinx rendered scikit-learn.org. See: https://github.com/scikit-learn/scikit-learn/issues/21755 */display: inline-block !important;position: relative;}#sk-container-id-2 div.sk-text-repr-fallback {display: none;}</style><div id=\"sk-container-id-2\" class=\"sk-top-container\"><div class=\"sk-text-repr-fallback\"><pre>LogisticRegression()</pre><b>In a Jupyter environment, please rerun this cell to show the HTML representation or trust the notebook. <br />On GitHub, the HTML representation is unable to render, please try loading this page with nbviewer.org.</b></div><div class=\"sk-container\" hidden><div class=\"sk-item\"><div class=\"sk-estimator sk-toggleable\"><input class=\"sk-toggleable__control sk-hidden--visually\" id=\"sk-estimator-id-2\" type=\"checkbox\" checked><label for=\"sk-estimator-id-2\" class=\"sk-toggleable__label sk-toggleable__label-arrow\">LogisticRegression</label><div class=\"sk-toggleable__content\"><pre>LogisticRegression()</pre></div></div></div></div></div>"
      ],
      "text/plain": [
       "LogisticRegression()"
      ]
     },
     "execution_count": 9,
     "metadata": {},
     "output_type": "execute_result"
    }
   ],
   "source": [
    "model = LogisticRegression()\n",
    "model.fit(X_train_scaled, y_train)"
   ]
  },
  {
   "cell_type": "markdown",
   "id": "7322ec80-777d-480a-9a46-1f796bec5ddb",
   "metadata": {},
   "source": [
    "<h5>Predict</h5>"
   ]
  },
  {
   "cell_type": "code",
   "execution_count": 10,
   "id": "93401a75-bb21-4707-80c0-68fc717e9d37",
   "metadata": {},
   "outputs": [],
   "source": [
    "y_pred = model.predict(X_test_scaled)"
   ]
  },
  {
   "cell_type": "markdown",
   "id": "58bc3fc0-158e-439c-a92a-def77cb19b97",
   "metadata": {},
   "source": [
    "<h5>confusion matrix</h5>"
   ]
  },
  {
   "cell_type": "code",
   "execution_count": 11,
   "id": "8a6d89d3-dfd7-4a72-97e2-aeea7e11f352",
   "metadata": {},
   "outputs": [
    {
     "name": "stdout",
     "output_type": "stream",
     "text": [
      "Confusion Matrix:\n",
      "[[79 20]\n",
      " [18 37]]\n"
     ]
    }
   ],
   "source": [
    "print(\"Confusion Matrix:\")\n",
    "print(confusion_matrix(y_test, y_pred))"
   ]
  },
  {
   "cell_type": "markdown",
   "id": "482c0cdd-94d2-4aaa-8655-9ba303703f50",
   "metadata": {},
   "source": [
    "<h5>Accuracy</h5>"
   ]
  },
  {
   "cell_type": "code",
   "execution_count": 12,
   "id": "c380ef1b-a943-4c5a-b8f1-b7f90c1be48f",
   "metadata": {},
   "outputs": [
    {
     "name": "stdout",
     "output_type": "stream",
     "text": [
      "Accuracy: 0.7532467532467533\n"
     ]
    }
   ],
   "source": [
    "accuracy = accuracy_score(y_test, y_pred)\n",
    "print(\"Accuracy:\", accuracy)"
   ]
  },
  {
   "cell_type": "markdown",
   "id": "7490e8d2-9214-428f-b227-b779eb9da895",
   "metadata": {},
   "source": [
    "<h5>precision</h5>"
   ]
  },
  {
   "cell_type": "code",
   "execution_count": 4,
   "id": "174184d7-152a-4aba-804e-4caa8e9388af",
   "metadata": {},
   "outputs": [],
   "source": [
    "from sklearn.metrics import precision_score\n"
   ]
  },
  {
   "cell_type": "markdown",
   "id": "7b69abcd-86b0-4c86-a3d5-72bdcd44a831",
   "metadata": {},
   "source": [
    "<h5>recall</h5>"
   ]
  },
  {
   "cell_type": "code",
   "execution_count": null,
   "id": "8ecf810d-531f-4049-8559-59cff4990a8d",
   "metadata": {},
   "outputs": [],
   "source": []
  },
  {
   "cell_type": "markdown",
   "id": "914d0747-734f-4e16-b8c5-84299e77d019",
   "metadata": {},
   "source": [
    "<h6>f1 score</h6>"
   ]
  },
  {
   "cell_type": "code",
   "execution_count": null,
   "id": "1f31f504-45f1-4ed1-9029-94941188aa61",
   "metadata": {},
   "outputs": [],
   "source": []
  }
 ],
 "metadata": {
  "kernelspec": {
   "display_name": "Python 3 (ipykernel)",
   "language": "python",
   "name": "python3"
  },
  "language_info": {
   "codemirror_mode": {
    "name": "ipython",
    "version": 3
   },
   "file_extension": ".py",
   "mimetype": "text/x-python",
   "name": "python",
   "nbconvert_exporter": "python",
   "pygments_lexer": "ipython3",
   "version": "3.11.1"
  }
 },
 "nbformat": 4,
 "nbformat_minor": 5
}
