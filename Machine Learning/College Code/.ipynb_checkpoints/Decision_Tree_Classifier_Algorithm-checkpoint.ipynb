{
 "cells": [
  {
   "cell_type": "markdown",
   "id": "cba82f26-033e-4c08-bb93-85f640c57a60",
   "metadata": {},
   "source": [
    "<h3>Implement a Machine Learning Classification model using a Decision Tree Classifier algorithm and enhance the model by K Fold and GridSearchCV cross-validation.</h3>\n",
    "<h5>Name : Shubham Sonake</h5>\n",
    "<h5>Reg No : 2021BIT047</h5>"
   ]
  },
  {
   "cell_type": "markdown",
   "id": "420f5c2a-6ccb-4db5-8f6e-bcb55ad99619",
   "metadata": {},
   "source": [
    "<h5>Importing the required libraries</h5>"
   ]
  },
  {
   "cell_type": "code",
   "execution_count": 1,
   "id": "66062ac3-c191-48df-8857-42eddff0991f",
   "metadata": {},
   "outputs": [],
   "source": [
    "import pandas as pd\n",
    "from sklearn.model_selection import train_test_split, KFold, GridSearchCV\n",
    "from sklearn.tree import DecisionTreeClassifier\n",
    "from sklearn.metrics import confusion_matrix, precision_score, recall_score, f1_score, accuracy_score \n",
    "from sklearn import tree"
   ]
  },
  {
   "cell_type": "markdown",
   "id": "e97f8e22-4b4b-494c-b99d-611d6cb1ca15",
   "metadata": {},
   "source": [
    "<h5>Load the Data</h5>"
   ]
  },
  {
   "cell_type": "code",
   "execution_count": 2,
   "id": "661e6b1f-a9b4-4330-a279-1298529aa549",
   "metadata": {},
   "outputs": [],
   "source": [
    "data = pd.read_csv('tennis.csv')"
   ]
  },
  {
   "cell_type": "code",
   "execution_count": 3,
   "id": "74f666cf-c4df-40f1-b0b6-fb3f1f1e449e",
   "metadata": {},
   "outputs": [
    {
     "data": {
      "text/html": [
       "<div>\n",
       "<style scoped>\n",
       "    .dataframe tbody tr th:only-of-type {\n",
       "        vertical-align: middle;\n",
       "    }\n",
       "\n",
       "    .dataframe tbody tr th {\n",
       "        vertical-align: top;\n",
       "    }\n",
       "\n",
       "    .dataframe thead th {\n",
       "        text-align: right;\n",
       "    }\n",
       "</style>\n",
       "<table border=\"1\" class=\"dataframe\">\n",
       "  <thead>\n",
       "    <tr style=\"text-align: right;\">\n",
       "      <th></th>\n",
       "      <th>outlook</th>\n",
       "      <th>temp</th>\n",
       "      <th>humidity</th>\n",
       "      <th>windy</th>\n",
       "      <th>play</th>\n",
       "    </tr>\n",
       "  </thead>\n",
       "  <tbody>\n",
       "    <tr>\n",
       "      <th>count</th>\n",
       "      <td>14</td>\n",
       "      <td>14</td>\n",
       "      <td>14</td>\n",
       "      <td>14</td>\n",
       "      <td>14</td>\n",
       "    </tr>\n",
       "    <tr>\n",
       "      <th>unique</th>\n",
       "      <td>3</td>\n",
       "      <td>3</td>\n",
       "      <td>2</td>\n",
       "      <td>2</td>\n",
       "      <td>2</td>\n",
       "    </tr>\n",
       "    <tr>\n",
       "      <th>top</th>\n",
       "      <td>sunny</td>\n",
       "      <td>mild</td>\n",
       "      <td>high</td>\n",
       "      <td>False</td>\n",
       "      <td>yes</td>\n",
       "    </tr>\n",
       "    <tr>\n",
       "      <th>freq</th>\n",
       "      <td>5</td>\n",
       "      <td>6</td>\n",
       "      <td>7</td>\n",
       "      <td>8</td>\n",
       "      <td>9</td>\n",
       "    </tr>\n",
       "  </tbody>\n",
       "</table>\n",
       "</div>"
      ],
      "text/plain": [
       "       outlook  temp humidity  windy play\n",
       "count       14    14       14     14   14\n",
       "unique       3     3        2      2    2\n",
       "top      sunny  mild     high  False  yes\n",
       "freq         5     6        7      8    9"
      ]
     },
     "execution_count": 3,
     "metadata": {},
     "output_type": "execute_result"
    }
   ],
   "source": [
    "data.describe()"
   ]
  },
  {
   "cell_type": "markdown",
   "id": "f63fabf8-7b81-4346-85dc-8144b2a49a4a",
   "metadata": {},
   "source": [
    "<h5>Split features and target variable</h5>"
   ]
  },
  {
   "cell_type": "code",
   "execution_count": 5,
   "id": "55d19bd4-93ba-40c7-937c-39e1587e1502",
   "metadata": {},
   "outputs": [],
   "source": [
    "X = data.drop(columns=['play'])\n",
    "y = data['play']"
   ]
  },
  {
   "cell_type": "markdown",
   "id": "804d87a6-efad-48ec-ae77-7de55c889851",
   "metadata": {},
   "source": [
    "<h5>Handle missing values if there are missing values</h5>"
   ]
  },
  {
   "cell_type": "code",
   "execution_count": 8,
   "id": "bafab640-5293-4ba7-ac2e-99e6a2f9425b",
   "metadata": {},
   "outputs": [],
   "source": [
    "data.fillna(0, inplace=True)"
   ]
  },
  {
   "cell_type": "markdown",
   "id": "c96c9667-112d-4d87-998a-21a3e69b9755",
   "metadata": {},
   "source": [
    "<h5> Convert categorical variables into dummy/indicator variables\n",
    "</h5>"
   ]
  },
  {
   "cell_type": "code",
   "execution_count": 9,
   "id": "b11357c3-4157-483d-acfc-67acafd6b216",
   "metadata": {},
   "outputs": [],
   "source": [
    "X = pd.get_dummies(X)"
   ]
  },
  {
   "cell_type": "code",
   "execution_count": 10,
   "id": "e4042a5e-08c6-4357-b107-2dfe88a32890",
   "metadata": {},
   "outputs": [
    {
     "name": "stdout",
     "output_type": "stream",
     "text": [
      "    windy  outlook_overcast  outlook_rainy  outlook_sunny  temp_cool  \\\n",
      "0   False             False          False           True      False   \n",
      "1    True             False          False           True      False   \n",
      "2   False              True          False          False      False   \n",
      "3   False             False           True          False      False   \n",
      "4   False             False           True          False       True   \n",
      "5    True             False           True          False       True   \n",
      "6    True              True          False          False       True   \n",
      "7   False             False          False           True      False   \n",
      "8   False             False          False           True       True   \n",
      "9   False             False           True          False      False   \n",
      "10   True             False          False           True      False   \n",
      "11   True              True          False          False      False   \n",
      "12  False              True          False          False      False   \n",
      "13   True             False           True          False      False   \n",
      "\n",
      "    temp_hot  temp_mild  humidity_high  humidity_normal  \n",
      "0       True      False           True            False  \n",
      "1       True      False           True            False  \n",
      "2       True      False           True            False  \n",
      "3      False       True           True            False  \n",
      "4      False      False          False             True  \n",
      "5      False      False          False             True  \n",
      "6      False      False          False             True  \n",
      "7      False       True           True            False  \n",
      "8      False      False          False             True  \n",
      "9      False       True          False             True  \n",
      "10     False       True          False             True  \n",
      "11     False       True           True            False  \n",
      "12      True      False          False             True  \n",
      "13     False       True           True            False  \n"
     ]
    }
   ],
   "source": [
    "print(X)"
   ]
  },
  {
   "cell_type": "markdown",
   "id": "0b510dcc-cfc4-4d07-a3cd-9edb7917ff44",
   "metadata": {},
   "source": [
    "<h5>Split data into train and test sets\n",
    "</h5>"
   ]
  },
  {
   "cell_type": "code",
   "execution_count": 11,
   "id": "185fef6e-d7e5-411f-b626-bc5da121b404",
   "metadata": {},
   "outputs": [],
   "source": [
    "X_train, X_test, y_train, y_test = train_test_split(X, y, test_size=0.2, random_state=42)"
   ]
  },
  {
   "cell_type": "markdown",
   "id": "3f5d4c07-88f7-42aa-8a83-24b0e4b0463f",
   "metadata": {},
   "source": [
    "<h5>Initialize Decision Tree Classifier</h5>"
   ]
  },
  {
   "cell_type": "code",
   "execution_count": 3,
   "id": "ee52c110-1d9c-452e-9f1a-599fa639cbdc",
   "metadata": {},
   "outputs": [],
   "source": [
    "dt_classifier = DecisionTreeClassifier(criterion=\"gini\")"
   ]
  },
  {
   "cell_type": "markdown",
   "id": "f913ed46-8e7f-4482-b1ef-dd1475ba4d38",
   "metadata": {},
   "source": [
    "<h5>Train the model</h5>"
   ]
  },
  {
   "cell_type": "code",
   "execution_count": 13,
   "id": "6299c7e3-8ed8-4fd2-8734-8f6519e20a58",
   "metadata": {},
   "outputs": [
    {
     "data": {
      "text/html": [
       "<style>#sk-container-id-1 {color: black;}#sk-container-id-1 pre{padding: 0;}#sk-container-id-1 div.sk-toggleable {background-color: white;}#sk-container-id-1 label.sk-toggleable__label {cursor: pointer;display: block;width: 100%;margin-bottom: 0;padding: 0.3em;box-sizing: border-box;text-align: center;}#sk-container-id-1 label.sk-toggleable__label-arrow:before {content: \"▸\";float: left;margin-right: 0.25em;color: #696969;}#sk-container-id-1 label.sk-toggleable__label-arrow:hover:before {color: black;}#sk-container-id-1 div.sk-estimator:hover label.sk-toggleable__label-arrow:before {color: black;}#sk-container-id-1 div.sk-toggleable__content {max-height: 0;max-width: 0;overflow: hidden;text-align: left;background-color: #f0f8ff;}#sk-container-id-1 div.sk-toggleable__content pre {margin: 0.2em;color: black;border-radius: 0.25em;background-color: #f0f8ff;}#sk-container-id-1 input.sk-toggleable__control:checked~div.sk-toggleable__content {max-height: 200px;max-width: 100%;overflow: auto;}#sk-container-id-1 input.sk-toggleable__control:checked~label.sk-toggleable__label-arrow:before {content: \"▾\";}#sk-container-id-1 div.sk-estimator input.sk-toggleable__control:checked~label.sk-toggleable__label {background-color: #d4ebff;}#sk-container-id-1 div.sk-label input.sk-toggleable__control:checked~label.sk-toggleable__label {background-color: #d4ebff;}#sk-container-id-1 input.sk-hidden--visually {border: 0;clip: rect(1px 1px 1px 1px);clip: rect(1px, 1px, 1px, 1px);height: 1px;margin: -1px;overflow: hidden;padding: 0;position: absolute;width: 1px;}#sk-container-id-1 div.sk-estimator {font-family: monospace;background-color: #f0f8ff;border: 1px dotted black;border-radius: 0.25em;box-sizing: border-box;margin-bottom: 0.5em;}#sk-container-id-1 div.sk-estimator:hover {background-color: #d4ebff;}#sk-container-id-1 div.sk-parallel-item::after {content: \"\";width: 100%;border-bottom: 1px solid gray;flex-grow: 1;}#sk-container-id-1 div.sk-label:hover label.sk-toggleable__label {background-color: #d4ebff;}#sk-container-id-1 div.sk-serial::before {content: \"\";position: absolute;border-left: 1px solid gray;box-sizing: border-box;top: 0;bottom: 0;left: 50%;z-index: 0;}#sk-container-id-1 div.sk-serial {display: flex;flex-direction: column;align-items: center;background-color: white;padding-right: 0.2em;padding-left: 0.2em;position: relative;}#sk-container-id-1 div.sk-item {position: relative;z-index: 1;}#sk-container-id-1 div.sk-parallel {display: flex;align-items: stretch;justify-content: center;background-color: white;position: relative;}#sk-container-id-1 div.sk-item::before, #sk-container-id-1 div.sk-parallel-item::before {content: \"\";position: absolute;border-left: 1px solid gray;box-sizing: border-box;top: 0;bottom: 0;left: 50%;z-index: -1;}#sk-container-id-1 div.sk-parallel-item {display: flex;flex-direction: column;z-index: 1;position: relative;background-color: white;}#sk-container-id-1 div.sk-parallel-item:first-child::after {align-self: flex-end;width: 50%;}#sk-container-id-1 div.sk-parallel-item:last-child::after {align-self: flex-start;width: 50%;}#sk-container-id-1 div.sk-parallel-item:only-child::after {width: 0;}#sk-container-id-1 div.sk-dashed-wrapped {border: 1px dashed gray;margin: 0 0.4em 0.5em 0.4em;box-sizing: border-box;padding-bottom: 0.4em;background-color: white;}#sk-container-id-1 div.sk-label label {font-family: monospace;font-weight: bold;display: inline-block;line-height: 1.2em;}#sk-container-id-1 div.sk-label-container {text-align: center;}#sk-container-id-1 div.sk-container {/* jupyter's `normalize.less` sets `[hidden] { display: none; }` but bootstrap.min.css set `[hidden] { display: none !important; }` so we also need the `!important` here to be able to override the default hidden behavior on the sphinx rendered scikit-learn.org. See: https://github.com/scikit-learn/scikit-learn/issues/21755 */display: inline-block !important;position: relative;}#sk-container-id-1 div.sk-text-repr-fallback {display: none;}</style><div id=\"sk-container-id-1\" class=\"sk-top-container\"><div class=\"sk-text-repr-fallback\"><pre>DecisionTreeClassifier()</pre><b>In a Jupyter environment, please rerun this cell to show the HTML representation or trust the notebook. <br />On GitHub, the HTML representation is unable to render, please try loading this page with nbviewer.org.</b></div><div class=\"sk-container\" hidden><div class=\"sk-item\"><div class=\"sk-estimator sk-toggleable\"><input class=\"sk-toggleable__control sk-hidden--visually\" id=\"sk-estimator-id-1\" type=\"checkbox\" checked><label for=\"sk-estimator-id-1\" class=\"sk-toggleable__label sk-toggleable__label-arrow\">DecisionTreeClassifier</label><div class=\"sk-toggleable__content\"><pre>DecisionTreeClassifier()</pre></div></div></div></div></div>"
      ],
      "text/plain": [
       "DecisionTreeClassifier()"
      ]
     },
     "execution_count": 13,
     "metadata": {},
     "output_type": "execute_result"
    }
   ],
   "source": [
    "dt_classifier.fit(X_train, y_train)"
   ]
  },
  {
   "cell_type": "markdown",
   "id": "5938ab3f-fa77-4ba6-b896-f4d5ccae7b0b",
   "metadata": {},
   "source": [
    "<h5>Make predictions</h5> "
   ]
  },
  {
   "cell_type": "code",
   "execution_count": 14,
   "id": "fd8b01e0-c667-4bc3-971f-4f4706ea202d",
   "metadata": {},
   "outputs": [],
   "source": [
    "y_pred = dt_classifier.predict(X_test)"
   ]
  },
  {
   "cell_type": "markdown",
   "id": "e6065cc5-8fd9-4dae-9591-b973ee9643cc",
   "metadata": {},
   "source": [
    "<h5>Confusion matrix</h5>"
   ]
  },
  {
   "cell_type": "code",
   "execution_count": 15,
   "id": "17b404a9-4e8f-4208-bbf5-d54a337b1268",
   "metadata": {},
   "outputs": [],
   "source": [
    "conf_matrix = confusion_matrix(y_test, y_pred)"
   ]
  },
  {
   "cell_type": "code",
   "execution_count": 16,
   "id": "642d8d33-4f64-4daa-9f1f-670ad3d52779",
   "metadata": {},
   "outputs": [
    {
     "name": "stdout",
     "output_type": "stream",
     "text": [
      "Confusion Matrix:\n",
      "[[1 0]\n",
      " [0 2]]\n"
     ]
    }
   ],
   "source": [
    "print(\"Confusion Matrix:\")\n",
    "print(conf_matrix)"
   ]
  },
  {
   "cell_type": "markdown",
   "id": "d474a941-d23a-40b3-9452-370e00df1b93",
   "metadata": {},
   "source": [
    "<h5>Evaluation Metrics</h5>"
   ]
  },
  {
   "cell_type": "code",
   "execution_count": 19,
   "id": "7597ca5e-75d3-4062-b2ed-460506593ad9",
   "metadata": {},
   "outputs": [],
   "source": [
    "precision = precision_score(y_test, y_pred, pos_label='yes')\n",
    "accuracy = accuracy_score(y_test, y_pred)\n",
    "recall = recall_score(y_test, y_pred, pos_label='yes')\n",
    "f1 = f1_score(y_test, y_pred, pos_label='yes')"
   ]
  },
  {
   "cell_type": "code",
   "execution_count": 20,
   "id": "7d5eee0c-c85f-4fec-a67d-f3090e11be70",
   "metadata": {},
   "outputs": [
    {
     "name": "stdout",
     "output_type": "stream",
     "text": [
      "Precision: 1.0\n",
      "Accuracy: 1.0\n",
      "Recall: 1.0\n",
      "F1 Score: 1.0\n"
     ]
    }
   ],
   "source": [
    "print(\"Precision:\", precision)\n",
    "print(\"Accuracy:\", accuracy)\n",
    "print(\"Recall:\", recall)\n",
    "print(\"F1 Score:\", f1)"
   ]
  },
  {
   "cell_type": "code",
   "execution_count": null,
   "id": "d81127ea-a73e-4a02-bb53-464522abea60",
   "metadata": {},
   "outputs": [],
   "source": [
    "from sklearn import tree\n",
    "\n"
   ]
  },
  {
   "cell_type": "code",
   "execution_count": 4,
   "id": "4640831f-a1d9-44bf-9fc1-bf77553bd2e4",
   "metadata": {},
   "outputs": [
    {
     "ename": "NameError",
     "evalue": "name 'dt_classifier' is not defined",
     "output_type": "error",
     "traceback": [
      "\u001b[1;31m---------------------------------------------------------------------------\u001b[0m",
      "\u001b[1;31mNameError\u001b[0m                                 Traceback (most recent call last)",
      "Cell \u001b[1;32mIn[4], line 1\u001b[0m\n\u001b[1;32m----> 1\u001b[0m tree\u001b[38;5;241m.\u001b[39mplot_tree(\u001b[43mdt_classifier\u001b[49m)\n",
      "\u001b[1;31mNameError\u001b[0m: name 'dt_classifier' is not defined"
     ]
    }
   ],
   "source": [
    "tree.plot_tree(dt_classifier)"
   ]
  },
  {
   "cell_type": "code",
   "execution_count": null,
   "id": "61d2f90f-a1d7-400c-bb45-0fdf3bf47087",
   "metadata": {},
   "outputs": [],
   "source": []
  }
 ],
 "metadata": {
  "kernelspec": {
   "display_name": "Python 3 (ipykernel)",
   "language": "python",
   "name": "python3"
  },
  "language_info": {
   "codemirror_mode": {
    "name": "ipython",
    "version": 3
   },
   "file_extension": ".py",
   "mimetype": "text/x-python",
   "name": "python",
   "nbconvert_exporter": "python",
   "pygments_lexer": "ipython3",
   "version": "3.11.1"
  }
 },
 "nbformat": 4,
 "nbformat_minor": 5
}
