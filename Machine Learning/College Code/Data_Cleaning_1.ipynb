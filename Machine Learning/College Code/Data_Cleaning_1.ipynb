{
 "cells": [
  {
   "cell_type": "markdown",
   "id": "ca51ff37-aa0c-4c36-a9cc-5fc545491fd1",
   "metadata": {},
   "source": [
    "<h3> NAME : SHUBHAM SONAKE</h3>\n",
    "<h3>REG NO : 2021BIT047</h3>"
   ]
  },
  {
   "cell_type": "markdown",
   "id": "bd8f649f-2750-484a-948e-0383b2742d15",
   "metadata": {},
   "source": [
    "<h5>import libraries</h5>"
   ]
  },
  {
   "cell_type": "code",
   "execution_count": 4,
   "id": "f3d033c0-2a02-4907-a396-9723a3c420f2",
   "metadata": {},
   "outputs": [],
   "source": [
    "%matplotlib inline\n",
    "import numpy as np\n",
    "import pandas as pd\n",
    "import matplotlib.pyplot as plt\n",
    "import seaborn as sns\n",
    "import sklearn"
   ]
  },
  {
   "cell_type": "code",
   "execution_count": 5,
   "id": "e110f4c7-7908-4020-994e-3d219b902c75",
   "metadata": {},
   "outputs": [],
   "source": [
    "dataset = pd.read_csv(r\"Data.csv\")"
   ]
  },
  {
   "cell_type": "code",
   "execution_count": 6,
   "id": "bf132913-eb21-42d3-901c-dd3d9da3010d",
   "metadata": {},
   "outputs": [],
   "source": [
    "df = pd.DataFrame(dataset)"
   ]
  },
  {
   "cell_type": "code",
   "execution_count": 7,
   "id": "c61400ed-b9a9-4025-8177-86faa9c57ee0",
   "metadata": {},
   "outputs": [
    {
     "data": {
      "text/html": [
       "<div>\n",
       "<style scoped>\n",
       "    .dataframe tbody tr th:only-of-type {\n",
       "        vertical-align: middle;\n",
       "    }\n",
       "\n",
       "    .dataframe tbody tr th {\n",
       "        vertical-align: top;\n",
       "    }\n",
       "\n",
       "    .dataframe thead th {\n",
       "        text-align: right;\n",
       "    }\n",
       "</style>\n",
       "<table border=\"1\" class=\"dataframe\">\n",
       "  <thead>\n",
       "    <tr style=\"text-align: right;\">\n",
       "      <th></th>\n",
       "      <th>Country</th>\n",
       "      <th>Age</th>\n",
       "      <th>Salary</th>\n",
       "      <th>Purchased</th>\n",
       "    </tr>\n",
       "  </thead>\n",
       "  <tbody>\n",
       "    <tr>\n",
       "      <th>0</th>\n",
       "      <td>France</td>\n",
       "      <td>44.0</td>\n",
       "      <td>72000.0</td>\n",
       "      <td>No</td>\n",
       "    </tr>\n",
       "    <tr>\n",
       "      <th>1</th>\n",
       "      <td>Spain</td>\n",
       "      <td>27.0</td>\n",
       "      <td>48000.0</td>\n",
       "      <td>Yes</td>\n",
       "    </tr>\n",
       "    <tr>\n",
       "      <th>2</th>\n",
       "      <td>Germany</td>\n",
       "      <td>30.0</td>\n",
       "      <td>54000.0</td>\n",
       "      <td>No</td>\n",
       "    </tr>\n",
       "    <tr>\n",
       "      <th>3</th>\n",
       "      <td>Spain</td>\n",
       "      <td>38.0</td>\n",
       "      <td>61000.0</td>\n",
       "      <td>No</td>\n",
       "    </tr>\n",
       "    <tr>\n",
       "      <th>4</th>\n",
       "      <td>Germany</td>\n",
       "      <td>40.0</td>\n",
       "      <td>NaN</td>\n",
       "      <td>Yes</td>\n",
       "    </tr>\n",
       "    <tr>\n",
       "      <th>5</th>\n",
       "      <td>France</td>\n",
       "      <td>35.0</td>\n",
       "      <td>58000.0</td>\n",
       "      <td>Yes</td>\n",
       "    </tr>\n",
       "    <tr>\n",
       "      <th>6</th>\n",
       "      <td>Spain</td>\n",
       "      <td>NaN</td>\n",
       "      <td>52000.0</td>\n",
       "      <td>No</td>\n",
       "    </tr>\n",
       "    <tr>\n",
       "      <th>7</th>\n",
       "      <td>France</td>\n",
       "      <td>48.0</td>\n",
       "      <td>79000.0</td>\n",
       "      <td>Yes</td>\n",
       "    </tr>\n",
       "    <tr>\n",
       "      <th>8</th>\n",
       "      <td>Germany</td>\n",
       "      <td>50.0</td>\n",
       "      <td>83000.0</td>\n",
       "      <td>No</td>\n",
       "    </tr>\n",
       "    <tr>\n",
       "      <th>9</th>\n",
       "      <td>France</td>\n",
       "      <td>37.0</td>\n",
       "      <td>67000.0</td>\n",
       "      <td>Yes</td>\n",
       "    </tr>\n",
       "  </tbody>\n",
       "</table>\n",
       "</div>"
      ],
      "text/plain": [
       "   Country   Age   Salary Purchased\n",
       "0   France  44.0  72000.0        No\n",
       "1    Spain  27.0  48000.0       Yes\n",
       "2  Germany  30.0  54000.0        No\n",
       "3    Spain  38.0  61000.0        No\n",
       "4  Germany  40.0      NaN       Yes\n",
       "5   France  35.0  58000.0       Yes\n",
       "6    Spain   NaN  52000.0        No\n",
       "7   France  48.0  79000.0       Yes\n",
       "8  Germany  50.0  83000.0        No\n",
       "9   France  37.0  67000.0       Yes"
      ]
     },
     "execution_count": 7,
     "metadata": {},
     "output_type": "execute_result"
    }
   ],
   "source": [
    "df"
   ]
  },
  {
   "cell_type": "code",
   "execution_count": 9,
   "id": "687357ec-403c-4e80-bf27-c5ce1d6e33fa",
   "metadata": {},
   "outputs": [
    {
     "name": "stdout",
     "output_type": "stream",
     "text": [
      "[['France' 44.0 72000.0]\n",
      " ['Spain' 27.0 48000.0]\n",
      " ['Germany' 30.0 54000.0]\n",
      " ['Spain' 38.0 61000.0]\n",
      " ['Germany' 40.0 nan]\n",
      " ['France' 35.0 58000.0]\n",
      " ['Spain' nan 52000.0]\n",
      " ['France' 48.0 79000.0]\n",
      " ['Germany' 50.0 83000.0]\n",
      " ['France' 37.0 67000.0]]\n"
     ]
    }
   ],
   "source": [
    "print(X)"
   ]
  },
  {
   "cell_type": "code",
   "execution_count": 10,
   "id": "95723952-aeec-4b95-bef8-42cbb166aba6",
   "metadata": {},
   "outputs": [
    {
     "name": "stdout",
     "output_type": "stream",
     "text": [
      "['No' 'Yes' 'No' 'No' 'Yes' 'Yes' 'No' 'Yes' 'No' 'Yes']\n"
     ]
    }
   ],
   "source": [
    "print(y)"
   ]
  },
  {
   "cell_type": "markdown",
   "id": "161e1424-fd50-4726-96d3-e6d13d722278",
   "metadata": {},
   "source": [
    "<h4>Identifying and handling the missing values</h4>"
   ]
  },
  {
   "cell_type": "code",
   "execution_count": 11,
   "id": "8fbc6f85-cd64-4769-9f74-7acb34a68eeb",
   "metadata": {},
   "outputs": [
    {
     "data": {
      "text/plain": [
       "Country      0\n",
       "Age          1\n",
       "Salary       1\n",
       "Purchased    0\n",
       "dtype: int64"
      ]
     },
     "execution_count": 11,
     "metadata": {},
     "output_type": "execute_result"
    }
   ],
   "source": [
    "df.isnull().sum()"
   ]
  },
  {
   "cell_type": "markdown",
   "id": "da3bc643-3ded-4696-aede-d5483755a90c",
   "metadata": {},
   "source": [
    "<h4>solution using  (Dropna dropna function is used to remove missing or NaN (Not a Number) values from a DataFrame or Series).</h4>"
   ]
  },
  {
   "cell_type": "code",
   "execution_count": 12,
   "id": "7bbbb4eb-c207-488a-96e7-245790d6d0ca",
   "metadata": {},
   "outputs": [],
   "source": [
    "df1 = df.copy()"
   ]
  },
  {
   "cell_type": "code",
   "execution_count": 13,
   "id": "ffb82b66-cd08-4223-91ee-3636fdee68dc",
   "metadata": {},
   "outputs": [
    {
     "name": "stdout",
     "output_type": "stream",
     "text": [
      "Before: (10, 4)\n",
      "After: (8, 4)\n"
     ]
    }
   ],
   "source": [
    "# summarize the shape of the raw data\n",
    "print(\"Before:\",df1.shape)\n",
    "\n",
    "# drop rows with missing values\n",
    "df1.dropna(inplace=True)\n",
    "\n",
    "# summarize the shape of the data with missing rows removed\n",
    "print(\"After:\",df1.shape)"
   ]
  },
  {
   "cell_type": "code",
   "execution_count": null,
   "id": "99e36e6b-70da-47bd-949a-aba9460ae84d",
   "metadata": {},
   "outputs": [],
   "source": [
    "# Checking for missing values\n"
   ]
  },
  {
   "cell_type": "code",
   "execution_count": 14,
   "id": "06f73794-e61c-4d4d-b98d-fcc2069fc800",
   "metadata": {
    "scrolled": true
   },
   "outputs": [
    {
     "name": "stdout",
     "output_type": "stream",
     "text": [
      "Isnull:\n",
      "   Country    Age  Salary  Purchased\n",
      "0    False  False   False      False\n",
      "1    False  False   False      False\n",
      "2    False  False   False      False\n",
      "3    False  False   False      False\n",
      "4    False  False    True      False\n",
      "5    False  False   False      False\n",
      "6    False   True   False      False\n",
      "7    False  False   False      False\n",
      "8    False  False   False      False\n",
      "9    False  False   False      False\n"
     ]
    }
   ],
   "source": [
    "print(\"Isnull:\")\n",
    "print(df.isnull())"
   ]
  },
  {
   "cell_type": "code",
   "execution_count": 15,
   "id": "f47ef7e7-d358-43f1-81e8-83259e578f8f",
   "metadata": {},
   "outputs": [
    {
     "name": "stdout",
     "output_type": "stream",
     "text": [
      "\n",
      "Notnull:\n",
      "   Country    Age  Salary  Purchased\n",
      "0     True   True    True       True\n",
      "1     True   True    True       True\n",
      "2     True   True    True       True\n",
      "3     True   True    True       True\n",
      "4     True   True   False       True\n",
      "5     True   True    True       True\n",
      "6     True  False    True       True\n",
      "7     True   True    True       True\n",
      "8     True   True    True       True\n",
      "9     True   True    True       True\n"
     ]
    }
   ],
   "source": [
    "print(\"\\nNotnull:\")\n",
    "print(df.notnull())"
   ]
  },
  {
   "cell_type": "markdown",
   "id": "091d4610-bb4e-41eb-a800-3c4c20becafd",
   "metadata": {},
   "source": [
    "<h4>Dropping rows with missing values</h4>"
   ]
  },
  {
   "cell_type": "code",
   "execution_count": 16,
   "id": "8b900266-e001-4524-8e7c-489432557ea7",
   "metadata": {},
   "outputs": [
    {
     "name": "stdout",
     "output_type": "stream",
     "text": [
      "\n",
      "Dropna:\n",
      "   Country   Age   Salary Purchased\n",
      "0   France  44.0  72000.0        No\n",
      "1    Spain  27.0  48000.0       Yes\n",
      "2  Germany  30.0  54000.0        No\n",
      "3    Spain  38.0  61000.0        No\n",
      "5   France  35.0  58000.0       Yes\n",
      "7   France  48.0  79000.0       Yes\n",
      "8  Germany  50.0  83000.0        No\n",
      "9   France  37.0  67000.0       Yes\n"
     ]
    }
   ],
   "source": [
    "df_dropna = df.dropna()\n",
    "print(\"\\nDropna:\")\n",
    "print(df_dropna)"
   ]
  },
  {
   "cell_type": "markdown",
   "id": "cf697574-269a-4ede-a9ec-077e96826f06",
   "metadata": {},
   "source": [
    "<h4> Filling missing values with a specified value\n",
    "</h4>"
   ]
  },
  {
   "cell_type": "code",
   "execution_count": 17,
   "id": "b57023e0-1320-4540-9964-a090f4cd71b2",
   "metadata": {},
   "outputs": [
    {
     "name": "stdout",
     "output_type": "stream",
     "text": [
      "\n",
      "Fillna:\n",
      "   Country   Age   Salary Purchased\n",
      "0   France  44.0  72000.0        No\n",
      "1    Spain  27.0  48000.0       Yes\n",
      "2  Germany  30.0  54000.0        No\n",
      "3    Spain  38.0  61000.0        No\n",
      "4  Germany  40.0      0.0       Yes\n",
      "5   France  35.0  58000.0       Yes\n",
      "6    Spain   0.0  52000.0        No\n",
      "7   France  48.0  79000.0       Yes\n",
      "8  Germany  50.0  83000.0        No\n",
      "9   France  37.0  67000.0       Yes\n"
     ]
    }
   ],
   "source": [
    "df_fillna = df.fillna(0)\n",
    "print(\"\\nFillna:\")\n",
    "print(df_fillna)"
   ]
  },
  {
   "cell_type": "markdown",
   "id": "1d2af5a1-0dac-4d84-846b-cf46a6a22e2d",
   "metadata": {},
   "source": [
    "<h4># Replacing values</h4>"
   ]
  },
  {
   "cell_type": "code",
   "execution_count": 18,
   "id": "7da4e6e9-6bba-425d-81d3-41c464049e56",
   "metadata": {},
   "outputs": [
    {
     "name": "stdout",
     "output_type": "stream",
     "text": [
      "\n",
      "Replace:\n",
      "   Country   Age   Salary  Purchased\n",
      "0   France  44.0  72000.0          0\n",
      "1    Spain  27.0  48000.0          1\n",
      "2  Germany  30.0  54000.0          0\n",
      "3    Spain  38.0  61000.0          0\n",
      "4  Germany  40.0      NaN          1\n",
      "5   France  35.0  58000.0          1\n",
      "6    Spain   NaN  52000.0          0\n",
      "7   France  48.0  79000.0          1\n",
      "8  Germany  50.0  83000.0          0\n",
      "9   France  37.0  67000.0          1\n"
     ]
    }
   ],
   "source": [
    "df_replace = df.replace({'Yes': 1, 'No': 0})\n",
    "print(\"\\nReplace:\")\n",
    "print(df_replace)"
   ]
  },
  {
   "cell_type": "markdown",
   "id": "0b5aff12-8c1f-48ac-a53d-b72c91772d5c",
   "metadata": {},
   "source": [
    "# Creating a boolean series for NaN values"
   ]
  },
  {
   "cell_type": "code",
   "execution_count": 22,
   "id": "5147874f-5a57-4e9f-87ed-ba2cbd86e5fc",
   "metadata": {},
   "outputs": [
    {
     "name": "stdout",
     "output_type": "stream",
     "text": [
      "\n",
      "Boolean Series for NaN values:\n",
      "   Country    Age  Salary  Purchased\n",
      "0    False  False   False      False\n",
      "1    False  False   False      False\n",
      "2    False  False   False      False\n",
      "3    False  False   False      False\n",
      "4    False  False    True      False\n",
      "5    False  False   False      False\n",
      "6    False   True   False      False\n",
      "7    False  False   False      False\n",
      "8    False  False   False      False\n",
      "9    False  False   False      False\n"
     ]
    }
   ],
   "source": [
    "nan_bool_series = df.isnull()\n",
    "print(\"\\nBoolean Series for NaN values:\")\n",
    "print(nan_bool_series)"
   ]
  },
  {
   "cell_type": "markdown",
   "id": "2e4c977b-9040-4f5c-8e8d-7a53c1d43deb",
   "metadata": {},
   "source": [
    "# Filtering data based on conditions\n"
   ]
  },
  {
   "cell_type": "code",
   "execution_count": 23,
   "id": "90cefbb3-6f22-483a-b5c9-d50e42c2f425",
   "metadata": {},
   "outputs": [
    {
     "name": "stdout",
     "output_type": "stream",
     "text": [
      "\n",
      "Filtered Data:\n",
      "   Country   Age   Salary Purchased\n",
      "0   France  44.0  72000.0        No\n",
      "3    Spain  38.0  61000.0        No\n",
      "4  Germany  40.0      NaN       Yes\n",
      "5   France  35.0  58000.0       Yes\n",
      "7   France  48.0  79000.0       Yes\n",
      "8  Germany  50.0  83000.0        No\n",
      "9   France  37.0  67000.0       Yes\n"
     ]
    }
   ],
   "source": [
    "filtered_data = df[df['Age'] > 30]\n",
    "print(\"\\nFiltered Data:\")\n",
    "print(filtered_data)"
   ]
  },
  {
   "cell_type": "markdown",
   "id": "8862ff43-24fd-45c9-8a5b-46ed545d46ad",
   "metadata": {},
   "source": [
    "# Creating a dictionary of lists"
   ]
  },
  {
   "cell_type": "code",
   "execution_count": 24,
   "id": "da7a135f-8ea0-4b8a-9131-3ab19faee9ea",
   "metadata": {},
   "outputs": [],
   "source": [
    "new_data = {\n",
    "    'Country': ['Italy', 'France'],\n",
    "    'Age': [32.0, 41.0],\n",
    "    'Salary': [60000.0, np.nan],\n",
    "    'Purchased': ['Yes', 'No']\n",
    "}"
   ]
  },
  {
   "cell_type": "markdown",
   "id": "c1103fe1-4909-4cd4-9503-56c8ffc0c91c",
   "metadata": {},
   "source": [
    "# after creating dictionary of lists"
   ]
  },
  {
   "cell_type": "code",
   "execution_count": 26,
   "id": "b0c023bc-2383-4911-9d33-0c579c656c96",
   "metadata": {},
   "outputs": [
    {
     "name": "stdout",
     "output_type": "stream",
     "text": [
      "{'Country': ['Italy', 'France'], 'Age': [32.0, 41.0], 'Salary': [60000.0, nan], 'Purchased': ['Yes', 'No']}\n"
     ]
    }
   ],
   "source": [
    "print(new_data)"
   ]
  },
  {
   "cell_type": "markdown",
   "id": "1800eecb-a324-44f2-b3a0-94bb076429a5",
   "metadata": {},
   "source": [
    "# Creating a new DataFrame using the dictionary"
   ]
  },
  {
   "cell_type": "code",
   "execution_count": 27,
   "id": "486e3421-9e97-4a3c-87c2-c567b478fdda",
   "metadata": {},
   "outputs": [],
   "source": [
    "new_df = pd.DataFrame(new_data)\n"
   ]
  },
  {
   "cell_type": "code",
   "execution_count": 28,
   "id": "6023d18e-abe9-4b3a-b3a1-fe5d75c98558",
   "metadata": {},
   "outputs": [
    {
     "name": "stdout",
     "output_type": "stream",
     "text": [
      "  Country   Age   Salary Purchased\n",
      "0   Italy  32.0  60000.0       Yes\n",
      "1  France  41.0      NaN        No\n"
     ]
    }
   ],
   "source": [
    "print(new_df)"
   ]
  },
  {
   "cell_type": "markdown",
   "id": "dda65aa5-b708-41e4-9dab-347c427677d9",
   "metadata": {},
   "source": [
    "# Concatenating DataFrames"
   ]
  },
  {
   "cell_type": "code",
   "execution_count": 29,
   "id": "2f28a362-a53d-4191-bd58-5b62143689a1",
   "metadata": {},
   "outputs": [
    {
     "name": "stdout",
     "output_type": "stream",
     "text": [
      "\n",
      "Concatenated DataFrame:\n",
      "    Country   Age   Salary Purchased\n",
      "0    France  44.0  72000.0        No\n",
      "1     Spain  27.0  48000.0       Yes\n",
      "2   Germany  30.0  54000.0        No\n",
      "3     Spain  38.0  61000.0        No\n",
      "4   Germany  40.0      NaN       Yes\n",
      "5    France  35.0  58000.0       Yes\n",
      "6     Spain   NaN  52000.0        No\n",
      "7    France  48.0  79000.0       Yes\n",
      "8   Germany  50.0  83000.0        No\n",
      "9    France  37.0  67000.0       Yes\n",
      "10    Italy  32.0  60000.0       Yes\n",
      "11   France  41.0      NaN        No\n"
     ]
    }
   ],
   "source": [
    "concatenated_df = pd.concat([df, new_df], ignore_index=True)\n",
    "print(\"\\nConcatenated DataFrame:\")\n",
    "print(concatenated_df)"
   ]
  },
  {
   "cell_type": "markdown",
   "id": "bdadd939-37d5-4694-ad1a-24e73ff4101f",
   "metadata": {},
   "source": [
    "# Filling missing values using notnull() function"
   ]
  },
  {
   "cell_type": "code",
   "execution_count": 30,
   "id": "4e5d5f9d-6666-4cbc-87ba-854b508d2bc7",
   "metadata": {},
   "outputs": [
    {
     "name": "stdout",
     "output_type": "stream",
     "text": [
      "\n",
      "Filled Missing Values:\n",
      "   Country   Age   Salary Purchased\n",
      "0   France  44.0  72000.0        No\n",
      "1    Spain  27.0  48000.0       Yes\n",
      "2  Germany  30.0  54000.0        No\n",
      "3    Spain  38.0  61000.0        No\n",
      "5   France  35.0  58000.0       Yes\n",
      "6    Spain   NaN  52000.0        No\n",
      "7   France  48.0  79000.0       Yes\n",
      "8  Germany  50.0  83000.0        No\n",
      "9   France  37.0  67000.0       Yes\n"
     ]
    }
   ],
   "source": [
    "df_filled = df[df['Salary'].notnull()]\n",
    "print(\"\\nFilled Missing Values:\")\n",
    "print(df_filled)"
   ]
  },
  {
   "cell_type": "code",
   "execution_count": null,
   "id": "9c043804-da63-4638-a658-345d14fde2ef",
   "metadata": {},
   "outputs": [],
   "source": []
  }
 ],
 "metadata": {
  "kernelspec": {
   "display_name": "Python 3 (ipykernel)",
   "language": "python",
   "name": "python3"
  },
  "language_info": {
   "codemirror_mode": {
    "name": "ipython",
    "version": 3
   },
   "file_extension": ".py",
   "mimetype": "text/x-python",
   "name": "python",
   "nbconvert_exporter": "python",
   "pygments_lexer": "ipython3",
   "version": "3.11.1"
  }
 },
 "nbformat": 4,
 "nbformat_minor": 5
}
